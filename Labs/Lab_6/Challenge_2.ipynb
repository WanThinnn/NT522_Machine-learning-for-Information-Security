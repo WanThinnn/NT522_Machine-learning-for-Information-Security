{
  "cells": [
    {
      "cell_type": "code",
      "execution_count": 23,
      "metadata": {
        "id": "rKHOB8nHg9-W"
      },
      "outputs": [],
      "source": [
        "import numpy as np\n",
        "import pandas as pd"
      ]
    },
    {
      "cell_type": "code",
      "execution_count": 24,
      "metadata": {
        "colab": {
          "base_uri": "https://localhost:8080/"
        },
        "id": "sGTz9ZrREjnT",
        "outputId": "3ff2e73e-69b7-4361-b8f7-2b2146973807"
      },
      "outputs": [
        {
          "name": "stdout",
          "output_type": "stream",
          "text": [
            "Drive already mounted at /content/drive; to attempt to forcibly remount, call drive.mount(\"/content/drive\", force_remount=True).\n"
          ]
        }
      ],
      "source": [
        "from google.colab import drive\n",
        "drive.mount('/content/drive')"
      ]
    },
    {
      "cell_type": "code",
      "execution_count": 25,
      "metadata": {
        "id": "X-jhRBGvhZts"
      },
      "outputs": [],
      "source": [
        "dir_path = '/content/drive/MyDrive/Lab 6_NT522.P21.2/'"
      ]
    },
    {
      "cell_type": "markdown",
      "metadata": {
        "id": "N3jOIxwugcij"
      },
      "source": [
        "Load Dataset"
      ]
    },
    {
      "cell_type": "code",
      "execution_count": 26,
      "metadata": {
        "id": "F3G9mc-ShfJu"
      },
      "outputs": [],
      "source": [
        "X_train = pd.read_csv(\"/content/drive/MyDrive/Lab 6_NT522.P21.2/X_Train.csv\",header=None)\n",
        "Y_train = pd.read_csv(\"/content/drive/MyDrive/Lab 6_NT522.P21.2/Y_Train.csv\",header=None)\n",
        "X_test = pd.read_csv(\"/content/drive/MyDrive/Lab 6_NT522.P21.2/X_test.csv\",header=None)\n",
        "Y_test = pd.read_csv(\"/content/drive/MyDrive/Lab 6_NT522.P21.2/Y_test.csv\",header=None)\n",
        "key = pd.read_csv(\"/content/drive/MyDrive/Lab 6_NT522.P21.2/Key_feature.csv\",header=None)"
      ]
    },
    {
      "cell_type": "code",
      "execution_count": null,
      "metadata": {
        "colab": {
          "base_uri": "https://localhost:8080/"
        },
        "id": "qBjZpb4RCo9y",
        "outputId": "f915c545-1e16-40fc-c63c-3c133c7b8ff7"
      },
      "outputs": [
        {
          "name": "stdout",
          "output_type": "stream",
          "text": [
            "(250202, 115)\n",
            "(250202, 1)\n",
            "(13040, 115)\n",
            "(13040, 1)\n",
            "(10000, 115)\n"
          ]
        }
      ],
      "source": [
        "'''\n",
        "Giải đoạn này để đọc dữ liệu từ các file CSV đã lưu trữ trong Google Drive.\n",
        "Các biến X_train, Y_train, X_test, Y_test và key sẽ chứa dữ liệu tương ứng.\n",
        "Shape là số lượng mẫu và số lượng đặc trưng của dữ liệu.\n",
        "X_train: Dữ liệu huấn luyện đầu vào.\n",
        "Y_train: Nhãn của dữ liệu huấn luyện, là các nhãn tương ứng với X_train.\n",
        "X_test: Dữ liệu kiểm tra đầu vào.\n",
        "Y_test: Nhãn của dữ liệu kiểm tra, là các nhãn tương ứng với X_test.\n",
        "key: Các đặc trưng quan trọng được xác định từ dữ liệu.\n",
        "Dữ liệu được đọc từ các file CSV và lưu trữ trong các biến tương ứng.\n",
        "'''\n",
        "\n",
        "print(X_train.shape)\n",
        "print(Y_train.shape)\n",
        "print(X_test.shape)\n",
        "print(Y_test.shape)\n",
        "print(key.shape)\n"
      ]
    },
    {
      "cell_type": "markdown",
      "metadata": {
        "id": "C5UsgoZ5gfni"
      },
      "source": [
        "Training Model"
      ]
    },
    {
      "cell_type": "code",
      "execution_count": null,
      "metadata": {
        "colab": {
          "base_uri": "https://localhost:8080/"
        },
        "id": "doSAo7RjIybJ",
        "outputId": "ba459301-d3cd-442d-b31a-6d0310b0923d"
      },
      "outputs": [
        {
          "name": "stdout",
          "output_type": "stream",
          "text": [
            "Đang chuyển dữ liệu lên GPU...\n",
            "Đang chuẩn hóa dữ liệu...\n"
          ]
        }
      ],
      "source": [
        "import numpy as np\n",
        "import pandas as pd\n",
        "import cudf\n",
        "import cupy as cp\n",
        "from cuml.ensemble import RandomForestClassifier as cuRF\n",
        "from cuml.preprocessing import StandardScaler as cuStandardScaler\n",
        "from sklearn.metrics import accuracy_score, precision_score, recall_score, f1_score\n",
        "import joblib\n",
        "import time\n",
        "import seaborn as sns\n",
        "import matplotlib.pyplot as plt\n",
        "\n",
        "# Chuyển đổi dữ liệu sang GPU\n",
        "print(\"Đang chuyển dữ liệu lên GPU...\")\n",
        "X_train_gpu = cudf.DataFrame(X_train) # Chuyển đổi DataFrame Pandas sang DataFrame cuDF để xử lý trên GPU\n",
        "Y_train_gpu = cudf.Series(Y_train.values.ravel()) # Chuyển đổi Series Pandas sang Series cuDF để xử lý trên GPU\n",
        "X_test_gpu = cudf.DataFrame(X_test) # Chuyển đổi DataFrame Pandas sang DataFrame cuDF để xử lý trên GPU\n",
        "Y_test_gpu = cudf.Series(Y_test.values.ravel()) # Chuyển đổi Series Pandas sang Series cuDF để xử lý trên GPU\n",
        "\n",
        "# Chuẩn hóa dữ liệu trên GPU\n",
        "print(\"Đang chuẩn hóa dữ liệu...\")\n",
        "scaler = cuStandardScaler() # Khởi tạo bộ chuẩn hóa dữ liệu, đây là bước quan trọng để đảm bảo rằng các đặc trưng có cùng quy mô, giúp mô hình học tốt hơn\n",
        "# Bộ chuẩn hóa này sẽ tính toán trung bình và độ lệch chuẩn của từng đặc trưng trong tập huấn luyện và sử dụng chúng để chuẩn hóa cả tập huấn luyện và tập kiểm tra\n",
        "X_train_scaled = scaler.fit_transform(X_train_gpu) # Chuẩn hóa dữ liệu huấn luyện, nghĩa là tính toán trung bình và độ lệch chuẩn của từng đặc trưng trong tập huấn luyện\n",
        "# Sau đó, dữ liệu huấn luyện sẽ được chuẩn hóa bằng cách trừ đi trung bình và chia cho độ lệch chuẩn\n",
        "\n",
        "X_test_scaled = scaler.transform(X_test_gpu) # Chuẩn hóa dữ liệu kiểm tra, nghĩa là sử dụng trung bình và độ lệch chuẩn đã tính toán từ tập huấn luyện để chuẩn hóa tập kiểm tra\n",
        "# Khởi tạo và train model Random Forest trên GPU\n",
        "rf_model = cuRF(\n",
        "    n_estimators=100, # đây là số lượng cây trong rừng, càng nhiều cây thì mô hình càng chính xác nhưng cũng tốn thời gian huấn luyện hơn\n",
        "    max_depth=10, # đây là độ sâu tối đa của mỗi cây, giới hạn này giúp tránh overfitting, càng sâu thì mô hình càng phức tạp và dễ overfit\n",
        "    random_state=42, # đây là hạt giống ngẫu nhiên để đảm bảo tính tái lập của mô hình, nếu không đặt thì mỗi lần chạy sẽ cho kết quả khác nhau\n",
        "    n_streams=1, # đây là số luồng xử lý song song, nếu bạn có nhiều GPU thì có thể tăng giá trị này để tận dụng tối đa tài nguyên\n",
        "    max_features='sqrt', # đây là số lượng đặc trưng được chọn ngẫu nhiên cho mỗi cây, 'sqrt' có nghĩa là lấy căn bậc hai của tổng số đặc trưng, giúp giảm thiểu overfitting\n",
        "    verbose=True # đây là tùy chọn để hiển thị thông tin chi tiết trong quá trình huấn luyện, nếu bạn muốn theo dõi tiến độ thì có thể để True\n",
        ")"
      ]
    },
    {
      "cell_type": "code",
      "execution_count": null,
      "metadata": {
        "colab": {
          "base_uri": "https://localhost:8080/"
        },
        "id": "0TonlqM1LFih",
        "outputId": "639a59ea-824a-4b9a-d698-4d3027cde7ca"
      },
      "outputs": [
        {
          "name": "stdout",
          "output_type": "stream",
          "text": [
            "Đang train model trên GPU...\n",
            "Thời gian training: 1.81 giây\n"
          ]
        }
      ],
      "source": [
        "# Train model\n",
        "print(\"Đang train model trên GPU...\")\n",
        "start_time = time.time()\n",
        "rf_model.fit(X_train_scaled, Y_train_gpu) # Huấn luyện mô hình Random Forest trên dữ liệu đã chuẩn hóa\n",
        "training_time = time.time() - start_time\n",
        "print(f\"Thời gian training: {training_time:.2f} giây\")"
      ]
    },
    {
      "cell_type": "markdown",
      "metadata": {
        "id": "rdX4urZeikkG"
      },
      "source": [
        "Evaluating Model"
      ]
    },
    {
      "cell_type": "code",
      "execution_count": null,
      "metadata": {
        "colab": {
          "base_uri": "https://localhost:8080/",
          "height": 874
        },
        "id": "fB9wFLq0ijln",
        "outputId": "a7a92656-14bc-43f4-fd4f-f94fc1a3753f"
      },
      "outputs": [
        {
          "name": "stdout",
          "output_type": "stream",
          "text": [
            "Đang dự đoán trên tập test...\n",
            "\n",
            "=== KẾT QUẢ ĐÁNH GIÁ TỔNG HỢP ===\n",
            "Accuracy (Độ chính xác): 0.9757\n",
            "Precision (Độ chính xác dương): 0.9774\n",
            "Recall (Độ bao phủ): 0.9757\n",
            "F1-score (Điểm F1): 0.9759\n",
            "\n",
            "Đã lưu confusion matrix vào file 'confusion_matrix.png'\n"
          ]
        },
        {
          "data": {
            "image/png": "[encoded data removed]",
            "text/plain": [
              "<Figure size 1000x800 with 2 Axes>"
            ]
          },
          "metadata": {},
          "output_type": "display_data"
        }
      ],
      "source": [
        "# Dự đoán trên tập test\n",
        "print(\"Đang dự đoán trên tập test...\")\n",
        "y_pred_gpu = rf_model.predict(X_test_scaled) # Dự đoán nhãn cho tập kiểm tra bằng mô hình đã huấn luyện\n",
        "\n",
        "# Chuyển kết quả về CPU để đánh giá\n",
        "y_pred = y_pred_gpu.values.get() # Chuyển đổi kết quả dự đoán từ cuDF Series sang NumPy array để có thể sử dụng với các hàm đánh giá của scikit-learn\n",
        "y_test = Y_test_gpu.values.get() # Chuyển đổi nhãn thực tế từ cuDF Series sang NumPy array\n",
        "# Tính toán các thang đo tổng hợp\n",
        "accuracy = accuracy_score(y_test, y_pred) # Tính độ chính xác của mô hình bằng cách so sánh nhãn dự đoán với nhãn thực tế\n",
        "precision = precision_score(y_test, y_pred, average='weighted') # Tính độ chính xác dương của mô hình, trung bình theo trọng số để cân nhắc số lượng mẫu của mỗi lớp\n",
        "recall = recall_score(y_test, y_pred, average='weighted') # Tính độ bao phủ của mô hình, trung bình theo trọng số để cân nhắc số lượng mẫu của mỗi lớp\n",
        "f1 = f1_score(y_test, y_pred, average='weighted') # Tính điểm F1 của mô hình, trung bình theo trọng số để cân nhắc số lượng mẫu của mỗi lớp\n",
        "\n",
        "print(\"\\n=== KẾT QUẢ ĐÁNH GIÁ TỔNG HỢP ===\")\n",
        "print(f\"Accuracy (Độ chính xác): {accuracy:.4f}\") # In ra độ chính xác của mô hình, là tỷ lệ mẫu dự đoán đúng trên tổng số mẫu\n",
        "print(f\"Precision (Độ chính xác dương): {precision:.4f}\") # In ra độ chính xác dương của mô hình, là tỷ lệ mẫu dự đoán đúng trên tổng số mẫu dự đoán là dương\n",
        "print(f\"Recall (Độ bao phủ): {recall:.4f}\") # In ra độ bao phủ của mô hình, là tỷ lệ mẫu dự đoán đúng trên tổng số mẫu thực tế là dương\n",
        "print(f\"F1-score (Điểm F1): {f1:.4f}\") # In ra điểm F1 của mô hình, là trung bình hài hòa giữa độ chính xác dương và độ bao phủ\n",
        "\n",
        "# Vẽ confusion matrix\n",
        "plt.figure(figsize=(10, 8)) \n",
        "cm = confusion_matrix(y_test, y_pred) # Tính toán confusion matrix bằng cách so sánh nhãn thực tế với nhãn dự đoán\n",
        "sns.heatmap(cm, annot=True, fmt='d', cmap='Blues') # Vẽ confusion matrix bằng seaborn, với các giá trị được ghi chú và màu sắc là xanh lam\n",
        "plt.title('Confusion Matrix') # Tiêu đề của biểu đồ confusion matrix\n",
        "plt.ylabel('True Label') # Nhãn thực tế\n",
        "plt.xlabel('Predicted Label') # Nhãn dự đoán\n",
        "plt.savefig('confusion_matrix.png') # Lưu confusion matrix vào file\n",
        "print(\"\\nĐã lưu confusion matrix vào file 'confusion_matrix.png'\")\n"
      ]
    },
    {
      "cell_type": "markdown",
      "metadata": {
        "id": "lgPhu2dsgkaa"
      },
      "source": [
        "Hint Flag"
      ]
    },
    {
      "cell_type": "code",
      "execution_count": 33,
      "metadata": {
        "id": "r3ex7P61D0by"
      },
      "outputs": [],
      "source": [
        "f = np.zeros((200, 50))"
      ]
    },
    {
      "cell_type": "code",
      "execution_count": null,
      "metadata": {
        "id": "IJlgWY4Vg4lP"
      },
      "outputs": [],
      "source": [
        "f"
      ]
    }
  ],
  "metadata": {
    "accelerator": "GPU",
    "colab": {
      "gpuType": "T4",
      "provenance": []
    },
    "kernelspec": {
      "display_name": "Python 3",
      "name": "python3"
    },
    "language_info": {
      "name": "python"
    }
  },
  "nbformat": 4,
  "nbformat_minor": 0
}
